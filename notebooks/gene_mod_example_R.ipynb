{
 "cells": [
  {
   "cell_type": "markdown",
   "metadata": {},
   "source": [
    "# Gene Modulation Example\n",
    "The goal of this notebook is to illustrate basic usage of I/O functionality in the [`cmapR`](https://github.com/cmap/cmapR) package. As a case study, we'll be analyzing signatures of compounds that do and do not modulate the gene MYC."
   ]
  },
  {
   "cell_type": "markdown",
   "metadata": {},
   "source": [
    "## Setup"
   ]
  },
  {
   "cell_type": "code",
   "execution_count": 1,
   "metadata": {},
   "outputs": [],
   "source": [
    "# load cmapR library\n",
    "library(cmapR)\n",
    "\n",
    "# load data.table for fast reading of text files\n",
    "library(data.table)\n",
    "\n",
    "# load pheatmap for plotting heatmaps\n",
    "suppressWarnings(library(pheatmap))"
   ]
  },
  {
   "cell_type": "markdown",
   "metadata": {},
   "source": [
    "Set up paths for matrix and metadata. Adjust these as needed."
   ]
  },
  {
   "cell_type": "code",
   "execution_count": 21,
   "metadata": {},
   "outputs": [],
   "source": [
    "ds_path <- \"/srv/data/cmap/GSE92742_Broad_LINCS_Level5_COMPZ.MODZ_n473647x12328.gctx\"\n",
    "siginfo_path <- \"/srv/data/cmap/GSE92742_Broad_LINCS_sig_info.txt\"\n",
    "sig_metrics_path <- \"/srv/data/cmap/GSE92742_Broad_LINCS_sig_metrics.txt\"\n",
    "geneinfo_path <- \"/srv/data/cmap/GSE92742_Broad_LINCS_gene_info.txt\""
   ]
  },
  {
   "cell_type": "markdown",
   "metadata": {},
   "source": [
    "## Slicing"
   ]
  },
  {
   "cell_type": "markdown",
   "metadata": {},
   "source": [
    "Load the metadata for all CMap signatures. We're doing this because we don't want to load all signatures at once. The matrix is too large. So instead, we'll figure out the specific set of signatures beforehand and then extract only those."
   ]
  },
  {
   "cell_type": "code",
   "execution_count": 22,
   "metadata": {},
   "outputs": [],
   "source": [
    "# suppressing warnings so that we don't have to see\n",
    "# fread complain about inconsistencies in some of the\n",
    "# metadata columns\n",
    "siginfo <- suppressWarnings(data.table::fread(siginfo_path))\n",
    "sigmetrics <- suppressWarnings(data.table::fread(sig_metrics_path))"
   ]
  },
  {
   "cell_type": "code",
   "execution_count": 27,
   "metadata": {},
   "outputs": [],
   "source": [
    "index <- match(sigmetrics$sig_id, siginfo$sig_id)\n",
    "sigmetrics$cell_id <- siginfo$cell_id[index]"
   ]
  },
  {
   "cell_type": "markdown",
   "metadata": {},
   "source": [
    "And for genes"
   ]
  },
  {
   "cell_type": "code",
   "execution_count": 28,
   "metadata": {},
   "outputs": [],
   "source": [
    "geneinfo <- data.table::fread(geneinfo_path)"
   ]
  },
  {
   "cell_type": "markdown",
   "metadata": {},
   "source": [
    "Designate my gene of interest using its gene symbol.\n",
    "\n"
   ]
  },
  {
   "cell_type": "code",
   "execution_count": 29,
   "metadata": {},
   "outputs": [],
   "source": [
    "my_gene <- \"MYC\""
   ]
  },
  {
   "cell_type": "markdown",
   "metadata": {},
   "source": [
    "Look up the corresponding gene_id, since this will correspond to row ids in the data matrix"
   ]
  },
  {
   "cell_type": "code",
   "execution_count": 30,
   "metadata": {},
   "outputs": [],
   "source": [
    "my_gene_id <- geneinfo[pr_gene_symbol==my_gene]$pr_gene_id"
   ]
  },
  {
   "cell_type": "markdown",
   "metadata": {},
   "source": [
    "Figure out list of signature ids (sig_ids) corresponding to compounds in the cell line A375, where the given signature had exactly 3 replicates. This is somewhat arbitrary but useful in reducing the number of signatures we're dealing with."
   ]
  },
  {
   "cell_type": "code",
   "execution_count": 31,
   "metadata": {},
   "outputs": [],
   "source": [
    "sigs_of_interest <- sigmetrics[pert_type==\"trt_cp\" &\n",
    "                  cell_id==\"A375\" & \n",
    "                  distil_nsample==3]\n",
    "sig_ids <- sigs_of_interest$sig_id"
   ]
  },
  {
   "cell_type": "markdown",
   "metadata": {},
   "source": [
    "How many did we get?"
   ]
  },
  {
   "cell_type": "code",
   "execution_count": 32,
   "metadata": {},
   "outputs": [
    {
     "data": {
      "text/html": [
       "7020"
      ],
      "text/latex": [
       "7020"
      ],
      "text/markdown": [
       "7020"
      ],
      "text/plain": [
       "[1] 7020"
      ]
     },
     "metadata": {},
     "output_type": "display_data"
    }
   ],
   "source": [
    "length(sig_ids)"
   ]
  },
  {
   "cell_type": "markdown",
   "metadata": {},
   "source": [
    "Now slice out the corresponding rows and columns from the data matrix using parse.gctx, which will return an object of class GCT. Make sure to cast the gene_id as a character so it's not mistakenly interpreted as an integer index."
   ]
  },
  {
   "cell_type": "code",
   "execution_count": 33,
   "metadata": {},
   "outputs": [
    {
     "name": "stderr",
     "output_type": "stream",
     "text": [
      "reading /srv/data/cmap/GSE92742_Broad_LINCS_Level5_COMPZ.MODZ_n473647x12328.gctx\n",
      "done\n"
     ]
    }
   ],
   "source": [
    "ds <- cmapR::parse.gctx(ds_path,\n",
    "                        rid=as.character(my_gene_id),\n",
    "                        cid=sig_ids)"
   ]
  },
  {
   "cell_type": "markdown",
   "metadata": {},
   "source": [
    "Let's take a look at the structure of the object we can do this by simply typing its name"
   ]
  },
  {
   "cell_type": "code",
   "execution_count": 34,
   "metadata": {},
   "outputs": [
    {
     "data": {
      "text/plain": [
       "Formal class 'GCT' [package \"cmapR\"] with 7 slots\n",
       "  ..@ mat    : num [1, 1:7020] 0.0869 -0.5384 -0.6922 0.5781 1.0301 ...\n",
       "  .. ..- attr(*, \"dimnames\")=List of 2\n",
       "  .. .. ..$ : chr \"4609\"\n",
       "  .. .. ..$ : chr [1:7020] \"CPC004_A375_6H:BRD-A00546892-001-01-8:10\" \"CPC004_A375_6H:BRD-A00993607-003-15-4:10\" \"CPC004_A375_6H:BRD-A01593789-001-02-3:10\" \"CPC004_A375_6H:BRD-A01643550-001-03-1:10\" ...\n",
       "  ..@ rid    : chr \"4609\"\n",
       "  ..@ cid    : chr [1:7020] \"CPC004_A375_6H:BRD-A00546892-001-01-8:10\" \"CPC004_A375_6H:BRD-A00993607-003-15-4:10\" \"CPC004_A375_6H:BRD-A01593789-001-02-3:10\" \"CPC004_A375_6H:BRD-A01643550-001-03-1:10\" ...\n",
       "  ..@ rdesc  :'data.frame':\t1 obs. of  1 variable:\n",
       "  .. ..$ id: chr \"4609\"\n",
       "  ..@ cdesc  :'data.frame':\t7020 obs. of  1 variable:\n",
       "  .. ..$ id: chr [1:7020] \"CPC004_A375_6H:BRD-A00546892-001-01-8:10\" \"CPC004_A375_6H:BRD-A00993607-003-15-4:10\" \"CPC004_A375_6H:BRD-A01593789-001-02-3:10\" \"CPC004_A375_6H:BRD-A01643550-001-03-1:10\" ...\n",
       "  ..@ version: chr(0) \n",
       "  ..@ src    : chr \"/srv/data/cmap/GSE92742_Broad_LINCS_Level5_COMPZ.MODZ_n473647x12328.gctx\""
      ]
     },
     "metadata": {},
     "output_type": "display_data"
    }
   ],
   "source": [
    "ds"
   ]
  },
  {
   "cell_type": "markdown",
   "metadata": {},
   "source": [
    "Note that the matrix only has one row, because we only requested data for a single gene."
   ]
  },
  {
   "cell_type": "markdown",
   "metadata": {},
   "source": [
    "We're interested in the data matrix, located in the slot `@mat`. Let's look at the distribution of z-scores. We'll add some vertical lines to indicate the thresholds for modulation."
   ]
  },
  {
   "cell_type": "markdown",
   "metadata": {},
   "source": [
    "## Analysis"
   ]
  },
  {
   "cell_type": "code",
   "execution_count": 35,
   "metadata": {},
   "outputs": [
    {
     "data": {
      "image/png": "[encoded data removed]",
      "text/plain": [
       "Plot with title “MYC”"
      ]
     },
     "metadata": {},
     "output_type": "display_data"
    }
   ],
   "source": [
    "hist(ds@mat, col=\"dodgerblue\", border=\"white\", breaks=30, main=my_gene, xlab=\"z-score\")\n",
    "abline(v=2, lty=2, col=2, lwd=1.3)\n",
    "abline(v=-2, lty=2, col=2, lwd=1.3)"
   ]
  },
  {
   "cell_type": "markdown",
   "metadata": {},
   "source": [
    "Lets identify the signatures in which the gene was significantly modulated."
   ]
  },
  {
   "cell_type": "code",
   "execution_count": 36,
   "metadata": {},
   "outputs": [],
   "source": [
    "mod_idx <- which(abs(ds@mat[1, ]) > 2)"
   ]
  },
  {
   "cell_type": "markdown",
   "metadata": {},
   "source": [
    "How many are there?"
   ]
  },
  {
   "cell_type": "code",
   "execution_count": 37,
   "metadata": {},
   "outputs": [
    {
     "data": {
      "text/html": [
       "451"
      ],
      "text/latex": [
       "451"
      ],
      "text/markdown": [
       "451"
      ],
      "text/plain": [
       "[1] 451"
      ]
     },
     "metadata": {},
     "output_type": "display_data"
    }
   ],
   "source": [
    "length(mod_idx)"
   ]
  },
  {
   "cell_type": "markdown",
   "metadata": {},
   "source": [
    "Let's compare these signatures to each other to see whether they have any similarity. For comparison, we'll include roughly the same number of signatures in which the gene was **NOT** modulated."
   ]
  },
  {
   "cell_type": "code",
   "execution_count": 38,
   "metadata": {},
   "outputs": [
    {
     "data": {
      "text/html": [
       "456"
      ],
      "text/latex": [
       "456"
      ],
      "text/markdown": [
       "456"
      ],
      "text/plain": [
       "[1] 456"
      ]
     },
     "metadata": {},
     "output_type": "display_data"
    }
   ],
   "source": [
    "non_mod_idx <- which(abs(ds@mat[1, ]) < 0.06)\n",
    "length(non_mod_idx)"
   ]
  },
  {
   "cell_type": "markdown",
   "metadata": {},
   "source": [
    "Good, this is roughly an equal number. Slice out the signatures from the matrix, restricting to landmark space"
   ]
  },
  {
   "cell_type": "code",
   "execution_count": null,
   "metadata": {},
   "outputs": [],
   "source": [
    "lm_ids <- as.character(geneinfo[pr_is_lm==1]$pr_gene_id)\n",
    "ds2 <- parse.gctx(ds_path, rid=lm_ids,\n",
    "                  cid=c(names(mod_idx), names(non_mod_idx)))\n"
   ]
  },
  {
   "cell_type": "markdown",
   "metadata": {},
   "source": [
    "Compute all pairwise correlations between signatures"
   ]
  },
  {
   "cell_type": "code",
   "execution_count": null,
   "metadata": {},
   "outputs": [],
   "source": [
    "corr <- cor(ds2@mat, method=\"spearman\")"
   ]
  },
  {
   "cell_type": "markdown",
   "metadata": {},
   "source": [
    "Cluster the correlations, overlaying a color bar indicating the degree of modulation of our gene of interest"
   ]
  },
  {
   "cell_type": "code",
   "execution_count": null,
   "metadata": {},
   "outputs": [],
   "source": [
    "mod_df <- data.frame(zscore=ds@mat[, c(mod_idx, non_mod_idx)])\n",
    "rownames(mod_df) <- c(names(mod_idx), names(non_mod_idx))"
   ]
  },
  {
   "cell_type": "markdown",
   "metadata": {},
   "source": [
    "Plot as a heatmap using the `pheatmap` package"
   ]
  },
  {
   "cell_type": "code",
   "execution_count": null,
   "metadata": {},
   "outputs": [],
   "source": [
    "pheatmap::pheatmap(corr, annotation_row=mod_df, annotation_col=mod_df,\n",
    "                  show_rownames=F, show_colnames=F)"
   ]
  },
  {
   "cell_type": "markdown",
   "metadata": {
    "collapsed": true
   },
   "source": [
    "Seems like we do see ~2 clusters which roughly correspond to the signatures in wich our gene is modulated. Not perfect but definitely a trend."
   ]
  },
  {
   "cell_type": "code",
   "execution_count": null,
   "metadata": {},
   "outputs": [],
   "source": []
  }
 ],
 "metadata": {
  "anaconda-cloud": {},
  "kernelspec": {
   "display_name": "R",
   "language": "R",
   "name": "ir"
  },
  "language_info": {
   "codemirror_mode": "r",
   "file_extension": ".r",
   "mimetype": "text/x-r-source",
   "name": "R",
   "pygments_lexer": "r",
   "version": "3.4.4"
  }
 },
 "nbformat": 4,
 "nbformat_minor": 1
}
